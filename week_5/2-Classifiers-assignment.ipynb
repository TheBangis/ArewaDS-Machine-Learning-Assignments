{
 "cells": [
  {
   "attachments": {},
   "cell_type": "markdown",
   "metadata": {},
   "source": [
    "# Study the solvers\n",
    "## TASK\n",
    "### In this lesson you learned about the various solvers that pair algorithms with a machine learning process to create an accurate model.\n",
    "### Walk through the solvers listed in the lesson and pick two.  In your own words, compare and contrast these two solvers. What kind of problem do they address? How do they work with various data structures? Why would you pick one over another?\n",
    "\n",
    "## ANS\n",
    "\n",
    "### We have different solver such as: lbfgs’, ‘liblinear’, ‘newton-cg’, ‘newton-cholesky’, ‘sag’, ‘saga and the default one is ’lbfgs’\n",
    "### For this, I take ‘lbfgs’, and ‘liblinear’,\n",
    "\n",
    "### ‘liblinear’: For small datasets, liblinear is a good choice and it is limited to one-versus-rest schemes. Liblinear supports both L1 (Lasso) and L2 (Ridge) regularization techniques. Regularization helps prevent overfitting and improves the generalization performance of the models. Users can choose the type of regularization based on their specific problem and requirements.\n",
    "\n",
    "### ‘lbfgs’: For large dataset and it handle multinomial loss, The lbfgs algorithm approximates the Hessian matrix to perform optimization. It can handle L2 regularization and performs well in terms of convergence speed and efficiency for multiclass problems. However, it may have memory and computation limitations for extremely large datasets.\n",
    "\n",
    "### To conclude, lbfgs and Liblinear are both optimization algorithms commonly used in machine learning, but they have different characteristics and are suitable for different types of problems.\n",
    "### The choice between the two algorithms depends on the specific problem, the nature of the data, and the requirements of the application at hand.\n",
    "\n"
   ]
  }
 ],
 "metadata": {
  "language_info": {
   "name": "python"
  },
  "orig_nbformat": 4
 },
 "nbformat": 4,
 "nbformat_minor": 2
}
